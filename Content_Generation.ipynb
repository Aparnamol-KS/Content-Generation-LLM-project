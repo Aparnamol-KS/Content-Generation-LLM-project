{
  "nbformat": 4,
  "nbformat_minor": 0,
  "metadata": {
    "colab": {
      "provenance": [],
      "authorship_tag": "ABX9TyPZjMvSaYtlDiUxKn8vgk9f",
      "include_colab_link": true
    },
    "kernelspec": {
      "name": "python3",
      "display_name": "Python 3"
    },
    "language_info": {
      "name": "python"
    }
  },
  "cells": [
    {
      "cell_type": "markdown",
      "metadata": {
        "id": "view-in-github",
        "colab_type": "text"
      },
      "source": [
        "<a href=\"https://colab.research.google.com/github/Aparnamol-KS/Content-Generation-LLM-project/blob/main/Content_Generation.ipynb\" target=\"_parent\"><img src=\"https://colab.research.google.com/assets/colab-badge.svg\" alt=\"Open In Colab\"/></a>"
      ]
    },
    {
      "cell_type": "markdown",
      "source": [
        "#Install Required Packages"
      ],
      "metadata": {
        "id": "V5uVTZB2cQ6i"
      }
    },
    {
      "cell_type": "code",
      "source": [
        "!pip install -q langchain groq sentence-transformers faiss-cpu gradio tiktoken groq langchain-community python-pptx\n"
      ],
      "metadata": {
        "id": "el716MLZcOYf"
      },
      "execution_count": null,
      "outputs": []
    },
    {
      "cell_type": "markdown",
      "source": [
        "#Import Required Packages"
      ],
      "metadata": {
        "id": "TMba1SGDc29Y"
      }
    },
    {
      "cell_type": "code",
      "source": [
        "from langchain_community.embeddings import HuggingFaceEmbeddings\n",
        "from langchain.document_loaders import TextLoader\n",
        "from langchain.chains import RetrievalQA\n",
        "from langchain.prompts import PromptTemplate\n",
        "from langchain.chains import LLMChain\n",
        "from pptx import Presentation\n",
        "from pptx.util import Inches, Pt\n",
        "from pptx.enum.text import PP_ALIGN\n",
        "from pptx.dml.color import RGBColor\n",
        "from pptx.enum.shapes import MSO_SHAPE, MSO_CONNECTOR_TYPE\n",
        "from sentence_transformers import SentenceTransformer\n",
        "from langchain.llms.base import LLM\n",
        "from typing import List, Optional\n",
        "from groq import Groq\n",
        "import pandas as pd\n",
        "import faiss\n",
        "import numpy as np\n",
        "import gradio as gr\n",
        "import random\n",
        "import tempfile\n",
        "import re\n",
        "import os\n"
      ],
      "metadata": {
        "id": "Yhah-ow5cOkA"
      },
      "execution_count": null,
      "outputs": []
    },
    {
      "cell_type": "markdown",
      "source": [
        "#Set Up API Keys\n"
      ],
      "metadata": {
        "id": "0rzGGgy_nnYF"
      }
    },
    {
      "cell_type": "code",
      "source": [
        "\n",
        "from google.colab import userdata\n",
        "api_key = userdata.get('API_KEY')\n"
      ],
      "metadata": {
        "id": "XbIGLPoSm4wr"
      },
      "execution_count": null,
      "outputs": []
    },
    {
      "cell_type": "markdown",
      "source": [
        "#Load LLMs and Embedding Models"
      ],
      "metadata": {
        "id": "PpbY3e2CmK3E"
      }
    },
    {
      "cell_type": "code",
      "source": [
        "class GroqLLM(LLM):\n",
        "    model: str = \"llama3-8b-8192\"\n",
        "    api_key: str = api_key\n",
        "    temperature: float = 0.0\n",
        "\n",
        "    def _call(self, prompt: str, stop: Optional[List[str]] = None) -> str:\n",
        "        client = Groq(api_key=self.api_key)\n",
        "\n",
        "        messages = [\n",
        "            {\"role\": \"system\", \"content\": \"You are a helpful assistant.\"},\n",
        "            {\"role\": \"user\", \"content\": prompt}\n",
        "        ]\n",
        "\n",
        "        response = client.chat.completions.create(\n",
        "            model=self.model,\n",
        "            messages=messages,\n",
        "            temperature=self.temperature,\n",
        "        )\n",
        "\n",
        "        return response.choices[0].message.content\n",
        "\n",
        "    @property\n",
        "    def _llm_type(self) -> str:\n",
        "        return \"groq-llm\"\n"
      ],
      "metadata": {
        "id": "3TltTCGGcOm_"
      },
      "execution_count": null,
      "outputs": []
    },
    {
      "cell_type": "code",
      "source": [
        "llm = GroqLLM(model=\"llama3-8b-8192\", api_key=api_key, temperature=0.7)"
      ],
      "metadata": {
        "id": "dNFkIRxScOqh"
      },
      "execution_count": null,
      "outputs": []
    },
    {
      "cell_type": "markdown",
      "source": [
        "# Define Prompt Templates & Chains"
      ],
      "metadata": {
        "id": "6ClbJYj4n7oT"
      }
    },
    {
      "cell_type": "code",
      "source": [
        "# Prompt templates\n",
        "name_prompt = PromptTemplate(\n",
        "    input_variables=[\"domain\"],\n",
        "    template=\"Generate 10 creative and catchy startup product name suggestions for the domain: {domain}.\"\n",
        ")\n",
        "\n",
        "description_prompt = PromptTemplate(\n",
        "    input_variables=[\"product_name\"],\n",
        "    template=\"Write a visionary and fictional product description for a startup named '{product_name}'. Make it imaginative and futuristic.\"\n",
        ")\n",
        "\n",
        "image_prompt = PromptTemplate(\n",
        "    input_variables=[\"product_description\"],\n",
        "    template=\"Based on this product description, create a detailed prompt to generate an AI image of the product: {product_description}\"\n",
        ")\n",
        "\n",
        "slides_prompt = PromptTemplate(\n",
        "    input_variables=[\"product_name\", \"product_description\"],\n",
        "    template=\"\"\"\n",
        "You are tasked with creating a professional 10-slide pitch deck for a futuristic and innovative product called '{product_name}'.\n",
        "\n",
        "Context:\n",
        "{product_description}\n",
        "\n",
        "📋 **Instructions**:\n",
        "- Each slide should include:\n",
        "  - A **title** only once (you'll generate it separately for each slide).\n",
        "  - 3–5 **detailed bullet points** with rich, medium-to-long explanations.\n",
        "- ❌ Do not include headings or slide titles inside the bullet points.\n",
        "- ❌ Do not include placeholders like [Image:] or [Title:].\n",
        "- ✅ Only provide well-formed bullet points that can go directly into a PowerPoint presentation.\n",
        "- ✅ Focus on clear, engaging, and professional startup pitch-style language.\n",
        "\n",
        "🎯 **Slides**:\n",
        "Slide 1: Introduction\n",
        "Slide 2: Product Overview\n",
        "Slide 3: The Problem\n",
        "Slide 4: The Solution\n",
        "Slide 5: Key Features\n",
        "Slide 6: Market Analysis\n",
        "Slide 7: Target Audience\n",
        "Slide 8: Monetization Strategy\n",
        "Slide 9: Technology Stack\n",
        "Slide 10: Conclusion\n",
        "\n",
        "Make the presentation sound like it belongs in a startup pitch competition or innovation expo.\n",
        "\"\"\"\n",
        ")\n",
        "# Create chains\n",
        "name_chain = LLMChain(llm=llm, prompt=name_prompt)\n",
        "description_chain = LLMChain(llm=llm, prompt=description_prompt)\n",
        "image_chain = LLMChain(llm=llm, prompt=image_prompt)\n",
        "slides_chain = LLMChain(llm=llm, prompt=slides_prompt)\n"
      ],
      "metadata": {
        "id": "vM4sQOftcOtX"
      },
      "execution_count": null,
      "outputs": []
    },
    {
      "cell_type": "markdown",
      "source": [
        "#Processing Inputs"
      ],
      "metadata": {
        "id": "UwDdUeuZoNHs"
      }
    },
    {
      "cell_type": "code",
      "source": [
        "def get_selected_name(index, suggestions):\n",
        "    try:\n",
        "        index = int(index) - 1  # Adjust for 0-based indexing\n",
        "        if 0 <= index < len(suggestions):\n",
        "            name_line = suggestions[index]\n",
        "            name = name_line.split(\"**\")[1] if \"**\" in name_line else name_line\n",
        "            return name\n",
        "        else:\n",
        "            return \"Invalid index. Please choose a number between 1 and 10.\"\n",
        "    except:\n",
        "        return \"Invalid input. Please enter a valid number.\"\n",
        "\n",
        "def format_suggestions(raw_lines):\n",
        "    suggestions = []\n",
        "    for line in raw_lines:\n",
        "        if \"**\" in line and \":\" in line:\n",
        "            # Extract the name and description\n",
        "            parts = line.split(\"**\")\n",
        "            if len(parts) >= 3:\n",
        "                name = parts[1]\n",
        "                description = parts[2].strip(\": \").strip()\n",
        "                suggestions.append(f\"{name}: {description}\")\n",
        "    # Format with numbers\n",
        "    numbered = [f\"{i+1}. {text}\" for i, text in enumerate(suggestions)]\n",
        "    return \"\\n\".join(numbered), suggestions\n",
        "\n",
        "def get_name_suggestions(domain):\n",
        "    raw_output = name_chain.run(domain)\n",
        "    lines = raw_output.split(\"\\n\")\n",
        "    display_text, clean_suggestions = format_suggestions(lines)\n",
        "\n",
        "    return display_text, clean_suggestions\n",
        "\n",
        "def get_details_from_index(index, suggestions):\n",
        "    try:\n",
        "        idx = int(index) - 1\n",
        "        product_name = suggestions[idx]\n",
        "    except (ValueError, IndexError):\n",
        "        product_name = suggestions[0]\n",
        "\n",
        "    description = description_chain.run(product_name)\n",
        "    image_prompt = image_chain.run(description)\n",
        "    return description, image_prompt"
      ],
      "metadata": {
        "id": "LwNx3KAhcOxD"
      },
      "execution_count": null,
      "outputs": []
    },
    {
      "cell_type": "markdown",
      "source": [
        "#Slide Generation Logic"
      ],
      "metadata": {
        "id": "LZNmFqGGoGIl"
      }
    },
    {
      "cell_type": "code",
      "source": [
        "def extract_product_name(text):\n",
        "    # Match word inside optional asterisks or just the first alphanumeric word\n",
        "    match = re.search(r\"\\*{0,2}([\\w]+)\\*{0,2}\", text)\n",
        "    return match.group(1) if match else text.strip()\n",
        "\n",
        "\n",
        "def clean_text(text):\n",
        "    return text.replace(\"*\", \"\").strip()\n",
        "def generate_ppt_enhanced(product_name, product_description):\n",
        "    product_name = extract_product_name(product_name)\n",
        "    slides_text = slides_chain.run(product_name=product_name, product_description=product_description)\n",
        "\n",
        "    prs = Presentation()\n",
        "\n",
        "    # 1. Title slide (Intro)\n",
        "    title_slide_layout = prs.slide_layouts[0]  # Usually title slide layout\n",
        "    slide = prs.slides.add_slide(title_slide_layout)\n",
        "    slide.shapes.title.text = product_name\n",
        "    subtitle = slide.placeholders[1]\n",
        "    subtitle.text = \"Innovative Product Presentation\"\n",
        "    subtitle.text_frame.paragraphs[0].font.italic = True\n",
        "    subtitle.text_frame.paragraphs[0].font.size = Pt(24)\n",
        "    subtitle.text_frame.paragraphs[0].font.color.rgb = RGBColor(0, 102, 204)  # blue\n",
        "\n",
        "    # 2. Content slides from generated text\n",
        "    for slide_block in slides_text.strip().split(\"Slide\")[1:]:\n",
        "        lines = slide_block.strip().split('\\n')\n",
        "        title = lines[0].split(':')[1].strip()\n",
        "        # content = [line.strip(\"-• \") for line in lines[1:] if line.strip()]\n",
        "        content = [clean_text(line) for line in lines[1:] if line.strip()]\n",
        "        # Use Title and Content layout (1)\n",
        "        slide = prs.slides.add_slide(prs.slide_layouts[1])\n",
        "        slide.shapes.title.text = title\n",
        "\n",
        "        text_frame = slide.shapes.placeholders[1].text_frame\n",
        "        text_frame.clear()  # Clear default content\n",
        "\n",
        "        for point in content:\n",
        "            p = text_frame.add_paragraph()\n",
        "            p.text = point\n",
        "            p.level = 0\n",
        "            p.font.size = Pt(18)\n",
        "            p.font.color.rgb = RGBColor(0, 0, 0)\n",
        "            p.space_after = Pt(6)\n",
        "\n",
        "\n",
        "    # 4. Conclusion slide\n",
        "    concl_slide = prs.slides.add_slide(prs.slide_layouts[1])\n",
        "    concl_slide.shapes.title.text = \"Conclusion\"\n",
        "    concl_tf = concl_slide.shapes.placeholders[1].text_frame\n",
        "    concl_tf.clear()\n",
        "    p = concl_tf.add_paragraph()\n",
        "    p.text = f\"{product_name} is poised to transform the industry with its innovative approach and customer-centric design.\"\n",
        "    p.font.size = Pt(18)\n",
        "\n",
        "    # 5. Thank You slide\n",
        "    thank_slide = prs.slides.add_slide(prs.slide_layouts[6])  # Blank slide\n",
        "    txBox = thank_slide.shapes.add_textbox(Inches(2), Inches(3), Inches(6), Inches(1))\n",
        "    tf = txBox.text_frame\n",
        "    p = tf.add_paragraph()\n",
        "    p.text = \"Thank You!\"\n",
        "    p.font.size = Pt(40)\n",
        "    p.font.bold = True\n",
        "    p.alignment = PP_ALIGN.CENTER\n",
        "\n",
        "    # Save presentation\n",
        "    tmp_file = tempfile.NamedTemporaryFile(delete=False, suffix=\".pptx\")\n",
        "    prs.save(tmp_file.name)\n",
        "\n",
        "    return tmp_file.name"
      ],
      "metadata": {
        "id": "pb77TUB9cOz-"
      },
      "execution_count": null,
      "outputs": []
    },
    {
      "cell_type": "markdown",
      "source": [
        "# Define Vectorstore for Similarity Search"
      ],
      "metadata": {
        "id": "Rm_hg68aoZzL"
      }
    },
    {
      "cell_type": "code",
      "source": [
        "# ---- Model and Stores ----\n",
        "model = SentenceTransformer(\"all-MiniLM-L6-v2\")\n",
        "vector_size = 384\n",
        "product_index = faiss.IndexFlatL2(vector_size)\n",
        "product_metadata_store = []\n",
        "\n",
        "# ---- Add Function ----\n",
        "def add_product(name, description, image_prompt):\n",
        "    embedding = model.encode([description])[0]\n",
        "    product_index.add(np.array([embedding]))\n",
        "    product_metadata_store.append({\n",
        "        \"product_name\": name,\n",
        "        \"product_desc\": description,\n",
        "        \"image_prompt\": image_prompt\n",
        "    })\n",
        "    return f\"✅ Saved: {name}\"\n",
        "\n",
        "# ---- Search Function ----\n",
        "def search_similar_products(query):\n",
        "    if not product_metadata_store:\n",
        "        return pd.DataFrame(columns=[\"Product Name\", \"Description\", \"Image Prompt\"])\n",
        "    query_embedding = model.encode([query])\n",
        "    D, I = product_index.search(np.array(query_embedding), k=min(5, len(product_metadata_store)))\n",
        "    results = []\n",
        "    for idx in I[0]:\n",
        "        if idx < len(product_metadata_store):\n",
        "            item = product_metadata_store[idx]\n",
        "            results.append([\n",
        "                item.get(\"product_name\", \"\"),\n",
        "                item.get(\"product_desc\", \"\"),\n",
        "                item.get(\"image_prompt\", \"\")\n",
        "            ])\n",
        "    return pd.DataFrame(results, columns=[\"Product Name\", \"Description\", \"Image Prompt\"])\n"
      ],
      "metadata": {
        "id": "fxWFcDokcO3j"
      },
      "execution_count": null,
      "outputs": []
    },
    {
      "cell_type": "markdown",
      "source": [
        "#Define Gradio Interface"
      ],
      "metadata": {
        "id": "Qs_0doLGogyb"
      }
    },
    {
      "cell_type": "code",
      "source": [
        "def surprise_domain():\n",
        "    return random.choice([\"Health\", \"Education\", \"Finance\", \"Travel\", \"Gaming\",\"Edu-Tech\",\"Smart-home\",\"AI & Tech\",\"Health & Wellness\",\"E-commerce & Marketing\",\" Education & Learning\"])\n",
        "\n",
        "with gr.Blocks(css=\"\"\"\n",
        "body {\n",
        "    font-family: 'Segoe UI', sans-serif;\n",
        "}\n",
        "\n",
        ".frosted-glass {\n",
        "    background: rgba(255, 255, 255, 0.05);\n",
        "    border: 1px solid rgba(255, 255, 255, 0.1);\n",
        "    border-radius: 20px;\n",
        "    backdrop-filter: blur(12px);\n",
        "    padding: 24px;\n",
        "    box-shadow: 0 0 20px rgba(0, 140, 255, 0.3);\n",
        "    margin: 10px 0;\n",
        "}\n",
        "\n",
        "button {\n",
        "    background: linear-gradient(135deg, #00b4d8, #0077cc) !important;\n",
        "    color: white !important;\n",
        "    border: none !important;\n",
        "    border-radius: 12px !important;\n",
        "    font-weight: 600;\n",
        "    padding: 10px 20px !important;\n",
        "}\n",
        "\n",
        "button:hover {\n",
        "    background: linear-gradient(135deg, #0096c7, #005fa3) !important;\n",
        "}\n",
        "\"\"\") as demo:\n",
        "\n",
        "    suggested_names_state = gr.State()\n",
        "\n",
        "    gr.Markdown(\"<h1 style='text-align:center; color:white;'>🚀 AI Startup Idea Generator</h1>\")\n",
        "\n",
        "    with gr.Tabs():\n",
        "\n",
        "        with gr.Tab(\"🚀 Startup Idea Generator\"):\n",
        "            with gr.Column(elem_classes=\"frosted-glass\"):\n",
        "\n",
        "                with gr.Row():\n",
        "                    domain_input = gr.Textbox(\n",
        "                        label=\"Enter a domain\",\n",
        "                        placeholder=\"e.g. Education, Finance\",\n",
        "                        scale=3,\n",
        "                        lines=1,\n",
        "                        max_lines=1\n",
        "                    )\n",
        "                    surprise_btn = gr.Button(\"🎲 Surprise Me\", scale=1)\n",
        "\n",
        "                gen_names_btn = gr.Button(\"🔍 Get Product Name Ideas\")\n",
        "\n",
        "                with gr.Row():\n",
        "                    with gr.Column(elem_classes=\"frosted-glass\"):\n",
        "\n",
        "                        suggested_names_box = gr.Textbox(\n",
        "                            label=\"💡 Product Name Suggestions\",\n",
        "                            lines=12\n",
        "                        )\n",
        "                        suggested_names_state = gr.State()\n",
        "\n",
        "                        idea_index_input = gr.Number(\n",
        "                            label=\"Idea #\",\n",
        "                            value=1,\n",
        "                            precision=0,\n",
        "                            interactive=True\n",
        "                        )\n",
        "\n",
        "                        selected_name_output = gr.Textbox(\n",
        "                            label=\"Selected Product Name\",\n",
        "                            interactive=False\n",
        "                        )\n",
        "\n",
        "                        gen_details_btn = gr.Button(\"✨ Generate Description & Image Prompt\")\n",
        "\n",
        "                        desc_output = gr.Textbox(\n",
        "                            label=\"📄 Product Description\",\n",
        "                            lines=8,\n",
        "                            max_lines=10,\n",
        "                            interactive=False\n",
        "                        )\n",
        "\n",
        "                        img_prompt_output = gr.Textbox(\n",
        "                            label=\"🖼️ Image Prompt\",\n",
        "                            lines=8,\n",
        "                            max_lines=6,\n",
        "                            interactive=False\n",
        "                        )\n",
        "\n",
        "                        add_btn = gr.Button(\"➕ Add Product\")\n",
        "                        status = gr.Textbox(label=\"Status\")\n",
        "\n",
        "                        generate_ppt_btn = gr.Button(\"📊 Generate Pitch Deck\")\n",
        "\n",
        "                        pptx_download = gr.File(\n",
        "                            label=\"📥 Download Pitch Deck\",\n",
        "                            interactive=False\n",
        "                        )\n",
        "\n",
        "                        # Button click handlers\n",
        "                        add_btn.click(\n",
        "                            fn=add_product,\n",
        "                            inputs=[selected_name_output, desc_output, img_prompt_output],\n",
        "                            outputs=status\n",
        "                        )\n",
        "\n",
        "                        gen_names_btn.click(\n",
        "                            fn=get_name_suggestions,\n",
        "                            inputs=domain_input,\n",
        "                            outputs=[suggested_names_box, suggested_names_state]\n",
        "                        )\n",
        "\n",
        "                        gen_details_btn.click(\n",
        "                            fn=get_selected_name,\n",
        "                            inputs=[idea_index_input, suggested_names_state],\n",
        "                            outputs=selected_name_output\n",
        "                        )\n",
        "\n",
        "                        gen_details_btn.click(\n",
        "                            fn=get_details_from_index,\n",
        "                            inputs=[idea_index_input, suggested_names_state],\n",
        "                            outputs=[desc_output, img_prompt_output]\n",
        "                        )\n",
        "\n",
        "                        generate_ppt_btn.click(\n",
        "                            fn=generate_ppt_enhanced,\n",
        "                            inputs=[selected_name_output, desc_output],\n",
        "                            outputs=pptx_download\n",
        "                        )\n",
        "\n",
        "                        surprise_btn.click(\n",
        "                            fn=surprise_domain,\n",
        "                            outputs=domain_input\n",
        "                        )\n",
        "\n",
        "        with gr.Tab(\"🔍 Search Products\"):\n",
        "\n",
        "            gr.Markdown(\"<h1>🔎 Search Stored Products</h1>\")\n",
        "\n",
        "            product_query_input = gr.Textbox(\n",
        "                label=\"Search by Description\",\n",
        "                placeholder=\"e.g. smart assistant for homes\"\n",
        "            )\n",
        "\n",
        "            search_btn = gr.Button(\"🔍 Search\")\n",
        "\n",
        "            search_results_output = gr.Dataframe(\n",
        "                headers=[\"Product Name\", \"Description\", \"Image Prompt\"],\n",
        "                datatype=[\"str\", \"str\", \"str\"],\n",
        "                label=\"Matching Products\",\n",
        "                interactive=False,\n",
        "                wrap=True\n",
        "            )\n",
        "\n",
        "            search_btn.click(\n",
        "                fn=search_similar_products,\n",
        "                inputs=product_query_input,\n",
        "                outputs=search_results_output\n",
        "            )\n",
        "\n",
        "    gr.Markdown(\"<center><small style='color:white;'>Built with ❤️ using Gradio | Styled for inspiration ✨</small></center>\")\n",
        "\n",
        "demo.launch()\n"
      ],
      "metadata": {
        "id": "JZynasbVcO7k"
      },
      "execution_count": null,
      "outputs": []
    },
    {
      "cell_type": "code",
      "source": [],
      "metadata": {
        "id": "94GiEhUhcPBv"
      },
      "execution_count": null,
      "outputs": []
    }
  ]
}